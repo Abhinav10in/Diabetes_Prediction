{
 "cells": [
  {
   "cell_type": "code",
   "execution_count": 3,
   "metadata": {},
   "outputs": [],
   "source": [
    "import numpy as np\n",
    "import pandas as pd\n",
    "from pandas_profiling import ProfileReport\n",
    "from sklearn.preprocessing import StandardScaler\n",
    "from sklearn.metrics import classification_report\n",
    "from sklearn.model_selection import train_test_split\n",
    "from sklearn.ensemble import RandomForestClassifier\n",
    "from joblib import dump, load"
   ]
  },
  {
   "cell_type": "code",
   "execution_count": 10,
   "metadata": {},
   "outputs": [],
   "source": [
    "data= pd.read_csv('C:\\\\Users\\\\Abhinav\\\\Desktop\\\\Fiverr\\\\Classification\\\\diabetes.csv')"
   ]
  },
  {
   "cell_type": "code",
   "execution_count": 11,
   "metadata": {},
   "outputs": [],
   "source": [
    "data[['Glucose','BloodPressure','SkinThickness','Insulin','BMI']] = data[['Glucose','BloodPressure','SkinThickness','Insulin','BMI']].replace(0,np.NaN)"
   ]
  },
  {
   "cell_type": "code",
   "execution_count": 12,
   "metadata": {},
   "outputs": [
    {
     "data": {
      "text/plain": [
       "Pregnancies                   0\n",
       "Glucose                       5\n",
       "BloodPressure                35\n",
       "SkinThickness               227\n",
       "Insulin                     374\n",
       "BMI                          11\n",
       "DiabetesPedigreeFunction      0\n",
       "Age                           0\n",
       "Outcome                       0\n",
       "dtype: int64"
      ]
     },
     "execution_count": 12,
     "metadata": {},
     "output_type": "execute_result"
    }
   ],
   "source": [
    "data.isnull().sum()"
   ]
  },
  {
   "cell_type": "code",
   "execution_count": 13,
   "metadata": {},
   "outputs": [],
   "source": [
    "#function to impute the missing values with median based on Outcome class\n",
    "def impute_median(data, var):\n",
    "  temp = data[data[var].notnull()]\n",
    "  temp = temp[[var, 'Outcome']].groupby(['Outcome'])[[var]].median()\n",
    "  data.loc[(data['Outcome'] == 0 ) & (data[var].isnull()), var] = temp.loc[0 ,var]\n",
    "  data.loc[(data['Outcome'] == 1 ) & (data[var].isnull()), var] = temp.loc[1 ,var]\n",
    "  return data\n",
    "\n",
    "#impute values using the function\n",
    "data = impute_median(data, 'Glucose')\n",
    "data = impute_median(data, 'BloodPressure')\n",
    "data = impute_median(data, 'SkinThickness')\n",
    "data = impute_median(data, 'Insulin')\n",
    "data = impute_median(data, 'BMI')\n",
    "\n",
    "#separate features and target as x & y\n",
    "y = data['Outcome']\n",
    "x = data.drop('Outcome', axis = 1)\n",
    "columns = x.columns"
   ]
  },
  {
   "cell_type": "code",
   "execution_count": 17,
   "metadata": {},
   "outputs": [],
   "source": [
    "#scale the values using a StandardScaler\n",
    "scaler = StandardScaler()\n",
    "scaler = scaler.fit(x)\n",
    "X = scaler.transform(x)\n",
    "\n",
    "#features DataFrame \n",
    "features = pd.DataFrame(X, columns = columns)"
   ]
  },
  {
   "cell_type": "code",
   "execution_count": 22,
   "metadata": {},
   "outputs": [
    {
     "data": {
      "text/plain": [
       "['scaler.joblib']"
      ]
     },
     "execution_count": 22,
     "metadata": {},
     "output_type": "execute_result"
    }
   ],
   "source": [
    "dump(scaler,'scaler.joblib')"
   ]
  },
  {
   "cell_type": "code",
   "execution_count": 18,
   "metadata": {},
   "outputs": [
    {
     "name": "stdout",
     "output_type": "stream",
     "text": [
      "              precision    recall  f1-score   support\n",
      "\n",
      "           0       0.92      0.88      0.90        99\n",
      "           1       0.80      0.85      0.82        55\n",
      "\n",
      "    accuracy                           0.87       154\n",
      "   macro avg       0.86      0.87      0.86       154\n",
      "weighted avg       0.87      0.87      0.87       154\n",
      "\n"
     ]
    }
   ],
   "source": [
    "#split data into training and test sets\n",
    "x_train, x_test, y_train, y_test = train_test_split(features, y, test_size = 0.2, random_state = 42)\n",
    "\n",
    "#define the model\n",
    "model = RandomForestClassifier(n_estimators=300, bootstrap = True, max_features = 'sqrt')\n",
    "\n",
    "#fit model to training data\n",
    "model.fit(x_train, y_train)\n",
    "\n",
    "#predict on test data\n",
    "y_pred = model.predict(x_test)\n",
    "\n",
    "#evaluate performance\n",
    "print(classification_report(y_test, y_pred))"
   ]
  },
  {
   "cell_type": "code",
   "execution_count": 21,
   "metadata": {},
   "outputs": [
    {
     "data": {
      "text/plain": [
       "['model.joblib']"
      ]
     },
     "execution_count": 21,
     "metadata": {},
     "output_type": "execute_result"
    }
   ],
   "source": [
    "dump(model,'model.joblib')"
   ]
  },
  {
   "cell_type": "code",
   "execution_count": 23,
   "metadata": {},
   "outputs": [],
   "source": [
    "\n",
    "\n",
    "pregnancies = 2\n",
    "glucose = 13\n",
    "bloodpressure = 30\n",
    "skinthickness = 4\n",
    "insulin = 5\n",
    "bmi = 5\n",
    "dpf = 0.55\n",
    "age = 34\n",
    "feat_cols = features.columns\n",
    "\n",
    "row = [pregnancies, glucose, bloodpressure, skinthickness, insulin, bmi, dpf, age]\n"
   ]
  },
  {
   "cell_type": "code",
   "execution_count": 24,
   "metadata": {},
   "outputs": [],
   "source": [
    "scaler = load('scaler.joblib')\n",
    "model = load('model.joblib')"
   ]
  },
  {
   "cell_type": "code",
   "execution_count": 25,
   "metadata": {},
   "outputs": [
    {
     "data": {
      "text/plain": [
       "Index(['Pregnancies', 'Glucose', 'BloodPressure', 'SkinThickness', 'Insulin',\n",
       "       'BMI', 'DiabetesPedigreeFunction', 'Age'],\n",
       "      dtype='object')"
      ]
     },
     "execution_count": 25,
     "metadata": {},
     "output_type": "execute_result"
    }
   ],
   "source": [
    "feat_cols"
   ]
  },
  {
   "cell_type": "code",
   "execution_count": 26,
   "metadata": {},
   "outputs": [],
   "source": [
    "\n",
    "\n",
    "df = pd.DataFrame([row], columns = feat_cols)\n",
    "X = scaler.transform(df)\n",
    "features = pd.DataFrame(X, columns = feat_cols)\n",
    "\n"
   ]
  },
  {
   "cell_type": "code",
   "execution_count": 27,
   "metadata": {},
   "outputs": [
    {
     "name": "stdout",
     "output_type": "stream",
     "text": [
      "This is a healthy person!\n"
     ]
    }
   ],
   "source": [
    "\n",
    "\n",
    "if (model.predict(features)==0):\n",
    "    print(\"This is a healthy person!\")\n",
    "else: print(\"This person has high chances of having diabetics!\")\n",
    "\n"
   ]
  }
 ],
 "metadata": {
  "kernelspec": {
   "display_name": "Python 3",
   "language": "python",
   "name": "python3"
  },
  "language_info": {
   "codemirror_mode": {
    "name": "ipython",
    "version": 3
   },
   "file_extension": ".py",
   "mimetype": "text/x-python",
   "name": "python",
   "nbconvert_exporter": "python",
   "pygments_lexer": "ipython3",
   "version": "3.7.4"
  }
 },
 "nbformat": 4,
 "nbformat_minor": 2
}
